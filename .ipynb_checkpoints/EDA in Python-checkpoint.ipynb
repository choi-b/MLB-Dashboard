{
 "cells": [
  {
   "cell_type": "markdown",
   "metadata": {},
   "source": [
    "# Simple EDA with Python"
   ]
  },
  {
   "cell_type": "code",
   "execution_count": 1,
   "metadata": {},
   "outputs": [],
   "source": [
    "import pandas as pd\n",
    "import matplotlib.pyplot as plt\n",
    "import numpy as np\n",
    "pd.options.mode.chained_assignment = None "
   ]
  },
  {
   "cell_type": "code",
   "execution_count": 2,
   "metadata": {},
   "outputs": [],
   "source": [
    "#Import Data\n",
    "df_as = pd.read_csv(\"Data/2021/core/AllstarFull.csv\") #All Stars\n",
    "df_bat = pd.read_csv(\"Data/2021/core/Batting.csv\") #batting (reg season)\n",
    "df_postbat = pd.read_csv(\"Data/2021/core/BattingPost.csv\") #batting (postseason)\n",
    "df_field = pd.read_csv(\"Data/2021/core/Fielding.csv\") #fielding\n",
    "df_pitch = pd.read_csv(\"Data/2021/core/Pitching.csv\") #pitching\n",
    "df_postpitch = pd.read_csv(\"Data/2021/core/PitchingPost.csv\") #Postseason Pitching\n",
    "df_sal = pd.read_csv(\"Data/2021/contrib/Salaries.csv\") #salaries\n",
    "df_people = pd.read_csv(\"Data/2021/core/People.csv\") #player names"
   ]
  },
  {
   "cell_type": "code",
   "execution_count": 3,
   "metadata": {},
   "outputs": [
    {
     "data": {
      "text/plain": [
       "count    5454.000000\n",
       "mean     1979.249908\n",
       "std        25.202333\n",
       "min      1933.000000\n",
       "25%      1959.000000\n",
       "50%      1979.000000\n",
       "75%      2002.000000\n",
       "max      2021.000000\n",
       "Name: yearID, dtype: float64"
      ]
     },
     "execution_count": 3,
     "metadata": {},
     "output_type": "execute_result"
    }
   ],
   "source": [
    "df_as['yearID'].describe() #2021 data added."
   ]
  },
  {
   "cell_type": "code",
   "execution_count": 4,
   "metadata": {},
   "outputs": [
    {
     "name": "stdout",
     "output_type": "stream",
     "text": [
      "(5454, 8)\n",
      "(110495, 22)\n",
      "(15879, 22)\n",
      "(147080, 18)\n",
      "(49430, 30)\n",
      "(6308, 30)\n",
      "(26428, 5)\n",
      "(20370, 24)\n"
     ]
    }
   ],
   "source": [
    "#Check out Dimensions of the dataframes.\n",
    "dfs = [df_as, df_bat, df_postbat, df_field, df_pitch, df_postpitch, df_sal, df_people]\n",
    "\n",
    "for df in dfs:\n",
    "    print(df.shape)\n",
    "    \n",
    "#biggest one: df_bat & df_field"
   ]
  },
  {
   "cell_type": "code",
   "execution_count": 5,
   "metadata": {},
   "outputs": [
    {
     "name": "stdout",
     "output_type": "stream",
     "text": [
      "Index(['playerID', 'yearID', 'stint', 'teamID', 'lgID', 'G', 'AB', 'R', 'H',\n",
      "       '2B', '3B', 'HR', 'RBI', 'SB', 'CS', 'BB', 'SO', 'IBB', 'HBP', 'SH',\n",
      "       'SF', 'GIDP'],\n",
      "      dtype='object')\n",
      "Index(['playerID', 'yearID', 'stint', 'teamID', 'lgID', 'POS', 'G', 'GS',\n",
      "       'InnOuts', 'PO', 'A', 'E', 'DP', 'PB', 'WP', 'SB', 'CS', 'ZR'],\n",
      "      dtype='object')\n",
      "Index(['yearID', 'teamID', 'lgID', 'playerID', 'salary'], dtype='object')\n"
     ]
    }
   ],
   "source": [
    "#Look at some sample columns\n",
    "for df in [df_bat, df_field, df_sal]:\n",
    "    print (df.columns)"
   ]
  },
  {
   "cell_type": "code",
   "execution_count": 6,
   "metadata": {},
   "outputs": [],
   "source": [
    "# To look at only the last decade of data\n",
    "# create a function to filter for the last decade of data (max year is 2020)\n",
    "def decadeonly(mydf):\n",
    "    mydf = mydf[mydf['yearID']>=2010]\n",
    "    return mydf"
   ]
  },
  {
   "cell_type": "markdown",
   "metadata": {},
   "source": [
    "### Functions to Calculate Additional Stats"
   ]
  },
  {
   "cell_type": "markdown",
   "metadata": {},
   "source": [
    "#### BA (Batting Average)"
   ]
  },
  {
   "cell_type": "code",
   "execution_count": 7,
   "metadata": {},
   "outputs": [],
   "source": [
    "def batting_average(df):\n",
    "    H = df['H']\n",
    "    AB = df['AB']\n",
    "    BA = H/AB\n",
    "    return round(BA,3) #retain 3 decimal places\n"
   ]
  },
  {
   "cell_type": "markdown",
   "metadata": {},
   "source": [
    "#### OBP (On Base Percentage)"
   ]
  },
  {
   "cell_type": "code",
   "execution_count": 8,
   "metadata": {},
   "outputs": [],
   "source": [
    "#OBP = (Hits + Walks + Hit by Pitch) / (At Bats + Walks + Hit by Pitch + Sacrifice Flies).\n",
    "def obp(df):\n",
    "    H = df['H']\n",
    "    W = df['BB']\n",
    "    HBP = df['HBP']\n",
    "    AB = df['AB']\n",
    "    SF = df['SF']\n",
    "    OBP = (H+W+HBP)/(AB+W+HBP+SF)\n",
    "    return round(OBP,3)"
   ]
  },
  {
   "cell_type": "markdown",
   "metadata": {},
   "source": [
    "#### SLG (Slugging)"
   ]
  },
  {
   "cell_type": "code",
   "execution_count": 9,
   "metadata": {},
   "outputs": [],
   "source": [
    "#SLG = Total Bases ÷ At Bats\n",
    "#Total Bases = Singles + (2 x Doubles) + (3 x Triples) + (4 x Home Runs)\n",
    "#Total Bases (alternate method) = Hits + Doubles + (2 x Triples) + (3 x Home Runs)[1]\n",
    "def slg(df):\n",
    "    total_bases = df['H'] + df['2B'] + 2*df['3B'] + 3*df['HR']\n",
    "    AB = df['AB']\n",
    "    SLG = total_bases/AB\n",
    "    return round(SLG,3)"
   ]
  },
  {
   "cell_type": "markdown",
   "metadata": {},
   "source": [
    "## Analysis 1: Evaluation of MLB All Stars (season stats)"
   ]
  },
  {
   "cell_type": "code",
   "execution_count": 10,
   "metadata": {},
   "outputs": [],
   "source": [
    "df_AS = decadeonly(df_as)"
   ]
  },
  {
   "cell_type": "markdown",
   "metadata": {},
   "source": [
    "#### Get the all stars' regular season stats at the END of the season (overall evaluation)"
   ]
  },
  {
   "cell_type": "code",
   "execution_count": 11,
   "metadata": {},
   "outputs": [],
   "source": [
    "df_BAT = decadeonly(df_bat)"
   ]
  },
  {
   "cell_type": "markdown",
   "metadata": {},
   "source": [
    "#### AS Hitters"
   ]
  },
  {
   "cell_type": "code",
   "execution_count": 12,
   "metadata": {},
   "outputs": [],
   "source": [
    "df_AS_bat = df_AS.merge(df_BAT, on=['playerID','yearID'], how='inner') #889 players"
   ]
  },
  {
   "cell_type": "markdown",
   "metadata": {},
   "source": [
    "#### AS Pitchers"
   ]
  },
  {
   "cell_type": "code",
   "execution_count": 13,
   "metadata": {},
   "outputs": [],
   "source": [
    "df_AS_pit = df_AS.merge(df_pitch, on=['playerID','yearID'], how='inner') #370 players"
   ]
  },
  {
   "cell_type": "markdown",
   "metadata": {},
   "source": [
    "## Calculate Additional Metrics"
   ]
  },
  {
   "cell_type": "code",
   "execution_count": 14,
   "metadata": {},
   "outputs": [],
   "source": [
    "#Batting Average\n",
    "df_AS_bat['BA'] = batting_average(df_AS_bat)"
   ]
  },
  {
   "cell_type": "code",
   "execution_count": 15,
   "metadata": {},
   "outputs": [],
   "source": [
    "#OBP\n",
    "df_AS_bat['OBP'] = obp(df_AS_bat)"
   ]
  },
  {
   "cell_type": "code",
   "execution_count": 16,
   "metadata": {},
   "outputs": [],
   "source": [
    "#SLG\n",
    "df_AS_bat['SLG'] = slg(df_AS_bat)"
   ]
  },
  {
   "cell_type": "code",
   "execution_count": 17,
   "metadata": {},
   "outputs": [],
   "source": [
    "#OPS = OBP + SLG\n",
    "df_AS_bat['OPS'] = df_AS_bat['OBP'] + df_AS_bat['SLG']"
   ]
  },
  {
   "cell_type": "markdown",
   "metadata": {},
   "source": [
    "#### 1a) AS Hitters' Stats (+50AB & in 2021)"
   ]
  },
  {
   "cell_type": "code",
   "execution_count": 18,
   "metadata": {},
   "outputs": [],
   "source": [
    "#only look at players with < 50 AB (estimate) & in most recent year\n",
    "df_AS_bat_21 = df_AS_bat[(df_AS_bat['AB']>50) & (df_AS_bat['yearID']==2021)] \n",
    "#df_AS_bat_21[['playerID','teamID_x','AB','H','HR','BA','R','RBI','SB','OBP','SLG','OPS']]"
   ]
  },
  {
   "cell_type": "code",
   "execution_count": 19,
   "metadata": {},
   "outputs": [
    {
     "data": {
      "text/html": [
       "<div>\n",
       "<style scoped>\n",
       "    .dataframe tbody tr th:only-of-type {\n",
       "        vertical-align: middle;\n",
       "    }\n",
       "\n",
       "    .dataframe tbody tr th {\n",
       "        vertical-align: top;\n",
       "    }\n",
       "\n",
       "    .dataframe thead th {\n",
       "        text-align: right;\n",
       "    }\n",
       "</style>\n",
       "<table border=\"1\" class=\"dataframe\">\n",
       "  <thead>\n",
       "    <tr style=\"text-align: right;\">\n",
       "      <th></th>\n",
       "      <th>playerID</th>\n",
       "      <th>yearID</th>\n",
       "      <th>gameNum</th>\n",
       "      <th>gameID</th>\n",
       "      <th>teamID_x</th>\n",
       "      <th>lgID_x</th>\n",
       "      <th>GP</th>\n",
       "      <th>startingPos</th>\n",
       "      <th>stint</th>\n",
       "      <th>teamID_y</th>\n",
       "      <th>...</th>\n",
       "      <th>SO</th>\n",
       "      <th>IBB</th>\n",
       "      <th>HBP</th>\n",
       "      <th>SH</th>\n",
       "      <th>SF</th>\n",
       "      <th>GIDP</th>\n",
       "      <th>BA</th>\n",
       "      <th>OBP</th>\n",
       "      <th>SLG</th>\n",
       "      <th>OPS</th>\n",
       "    </tr>\n",
       "  </thead>\n",
       "  <tbody>\n",
       "    <tr>\n",
       "      <th>797</th>\n",
       "      <td>ohtansh01</td>\n",
       "      <td>2021</td>\n",
       "      <td>0</td>\n",
       "      <td>NLS202107130</td>\n",
       "      <td>LAA</td>\n",
       "      <td>AL</td>\n",
       "      <td>1</td>\n",
       "      <td>1.0</td>\n",
       "      <td>1</td>\n",
       "      <td>LAA</td>\n",
       "      <td>...</td>\n",
       "      <td>189.0</td>\n",
       "      <td>20.0</td>\n",
       "      <td>4.0</td>\n",
       "      <td>0.0</td>\n",
       "      <td>2.0</td>\n",
       "      <td>7.0</td>\n",
       "      <td>0.257</td>\n",
       "      <td>0.372</td>\n",
       "      <td>0.592</td>\n",
       "      <td>0.964</td>\n",
       "    </tr>\n",
       "    <tr>\n",
       "      <th>798</th>\n",
       "      <td>ohtansh01</td>\n",
       "      <td>2021</td>\n",
       "      <td>0</td>\n",
       "      <td>NLS202107130</td>\n",
       "      <td>LAA</td>\n",
       "      <td>AL</td>\n",
       "      <td>1</td>\n",
       "      <td>10.0</td>\n",
       "      <td>1</td>\n",
       "      <td>LAA</td>\n",
       "      <td>...</td>\n",
       "      <td>189.0</td>\n",
       "      <td>20.0</td>\n",
       "      <td>4.0</td>\n",
       "      <td>0.0</td>\n",
       "      <td>2.0</td>\n",
       "      <td>7.0</td>\n",
       "      <td>0.257</td>\n",
       "      <td>0.372</td>\n",
       "      <td>0.592</td>\n",
       "      <td>0.964</td>\n",
       "    </tr>\n",
       "    <tr>\n",
       "      <th>799</th>\n",
       "      <td>perezsa02</td>\n",
       "      <td>2021</td>\n",
       "      <td>0</td>\n",
       "      <td>NLS202107130</td>\n",
       "      <td>KCA</td>\n",
       "      <td>AL</td>\n",
       "      <td>1</td>\n",
       "      <td>2.0</td>\n",
       "      <td>1</td>\n",
       "      <td>KCA</td>\n",
       "      <td>...</td>\n",
       "      <td>170.0</td>\n",
       "      <td>4.0</td>\n",
       "      <td>13.0</td>\n",
       "      <td>0.0</td>\n",
       "      <td>4.0</td>\n",
       "      <td>14.0</td>\n",
       "      <td>0.273</td>\n",
       "      <td>0.316</td>\n",
       "      <td>0.544</td>\n",
       "      <td>0.860</td>\n",
       "    </tr>\n",
       "    <tr>\n",
       "      <th>800</th>\n",
       "      <td>guerrvl02</td>\n",
       "      <td>2021</td>\n",
       "      <td>0</td>\n",
       "      <td>NLS202107130</td>\n",
       "      <td>TOR</td>\n",
       "      <td>AL</td>\n",
       "      <td>1</td>\n",
       "      <td>3.0</td>\n",
       "      <td>1</td>\n",
       "      <td>TOR</td>\n",
       "      <td>...</td>\n",
       "      <td>110.0</td>\n",
       "      <td>7.0</td>\n",
       "      <td>6.0</td>\n",
       "      <td>0.0</td>\n",
       "      <td>2.0</td>\n",
       "      <td>20.0</td>\n",
       "      <td>0.311</td>\n",
       "      <td>0.401</td>\n",
       "      <td>0.601</td>\n",
       "      <td>1.002</td>\n",
       "    </tr>\n",
       "    <tr>\n",
       "      <th>801</th>\n",
       "      <td>semiema01</td>\n",
       "      <td>2021</td>\n",
       "      <td>0</td>\n",
       "      <td>NLS202107130</td>\n",
       "      <td>TOR</td>\n",
       "      <td>AL</td>\n",
       "      <td>1</td>\n",
       "      <td>4.0</td>\n",
       "      <td>1</td>\n",
       "      <td>TOR</td>\n",
       "      <td>...</td>\n",
       "      <td>146.0</td>\n",
       "      <td>0.0</td>\n",
       "      <td>3.0</td>\n",
       "      <td>0.0</td>\n",
       "      <td>3.0</td>\n",
       "      <td>9.0</td>\n",
       "      <td>0.265</td>\n",
       "      <td>0.334</td>\n",
       "      <td>0.538</td>\n",
       "      <td>0.872</td>\n",
       "    </tr>\n",
       "    <tr>\n",
       "      <th>...</th>\n",
       "      <td>...</td>\n",
       "      <td>...</td>\n",
       "      <td>...</td>\n",
       "      <td>...</td>\n",
       "      <td>...</td>\n",
       "      <td>...</td>\n",
       "      <td>...</td>\n",
       "      <td>...</td>\n",
       "      <td>...</td>\n",
       "      <td>...</td>\n",
       "      <td>...</td>\n",
       "      <td>...</td>\n",
       "      <td>...</td>\n",
       "      <td>...</td>\n",
       "      <td>...</td>\n",
       "      <td>...</td>\n",
       "      <td>...</td>\n",
       "      <td>...</td>\n",
       "      <td>...</td>\n",
       "      <td>...</td>\n",
       "      <td>...</td>\n",
       "    </tr>\n",
       "    <tr>\n",
       "      <th>883</th>\n",
       "      <td>turneju01</td>\n",
       "      <td>2021</td>\n",
       "      <td>0</td>\n",
       "      <td>NLS202107130</td>\n",
       "      <td>LAN</td>\n",
       "      <td>NL</td>\n",
       "      <td>1</td>\n",
       "      <td>NaN</td>\n",
       "      <td>1</td>\n",
       "      <td>LAN</td>\n",
       "      <td>...</td>\n",
       "      <td>98.0</td>\n",
       "      <td>0.0</td>\n",
       "      <td>12.0</td>\n",
       "      <td>0.0</td>\n",
       "      <td>6.0</td>\n",
       "      <td>12.0</td>\n",
       "      <td>0.278</td>\n",
       "      <td>0.361</td>\n",
       "      <td>0.471</td>\n",
       "      <td>0.832</td>\n",
       "    </tr>\n",
       "    <tr>\n",
       "      <th>884</th>\n",
       "      <td>turnetr01</td>\n",
       "      <td>2021</td>\n",
       "      <td>0</td>\n",
       "      <td>NLS202107130</td>\n",
       "      <td>WAS</td>\n",
       "      <td>NL</td>\n",
       "      <td>1</td>\n",
       "      <td>NaN</td>\n",
       "      <td>1</td>\n",
       "      <td>WAS</td>\n",
       "      <td>...</td>\n",
       "      <td>77.0</td>\n",
       "      <td>0.0</td>\n",
       "      <td>4.0</td>\n",
       "      <td>0.0</td>\n",
       "      <td>2.0</td>\n",
       "      <td>13.0</td>\n",
       "      <td>0.322</td>\n",
       "      <td>0.369</td>\n",
       "      <td>0.521</td>\n",
       "      <td>0.890</td>\n",
       "    </tr>\n",
       "    <tr>\n",
       "      <th>885</th>\n",
       "      <td>turnetr01</td>\n",
       "      <td>2021</td>\n",
       "      <td>0</td>\n",
       "      <td>NLS202107130</td>\n",
       "      <td>WAS</td>\n",
       "      <td>NL</td>\n",
       "      <td>1</td>\n",
       "      <td>NaN</td>\n",
       "      <td>2</td>\n",
       "      <td>LAN</td>\n",
       "      <td>...</td>\n",
       "      <td>33.0</td>\n",
       "      <td>2.0</td>\n",
       "      <td>2.0</td>\n",
       "      <td>0.0</td>\n",
       "      <td>2.0</td>\n",
       "      <td>5.0</td>\n",
       "      <td>0.338</td>\n",
       "      <td>0.385</td>\n",
       "      <td>0.565</td>\n",
       "      <td>0.950</td>\n",
       "    </tr>\n",
       "    <tr>\n",
       "      <th>887</th>\n",
       "      <td>wheelza01</td>\n",
       "      <td>2021</td>\n",
       "      <td>0</td>\n",
       "      <td>NLS202107130</td>\n",
       "      <td>PHI</td>\n",
       "      <td>NL</td>\n",
       "      <td>0</td>\n",
       "      <td>NaN</td>\n",
       "      <td>1</td>\n",
       "      <td>PHI</td>\n",
       "      <td>...</td>\n",
       "      <td>39.0</td>\n",
       "      <td>0.0</td>\n",
       "      <td>0.0</td>\n",
       "      <td>5.0</td>\n",
       "      <td>0.0</td>\n",
       "      <td>1.0</td>\n",
       "      <td>0.162</td>\n",
       "      <td>0.162</td>\n",
       "      <td>0.191</td>\n",
       "      <td>0.353</td>\n",
       "    </tr>\n",
       "    <tr>\n",
       "      <th>888</th>\n",
       "      <td>woodrbr01</td>\n",
       "      <td>2021</td>\n",
       "      <td>0</td>\n",
       "      <td>NLS202107130</td>\n",
       "      <td>MIL</td>\n",
       "      <td>NL</td>\n",
       "      <td>0</td>\n",
       "      <td>NaN</td>\n",
       "      <td>1</td>\n",
       "      <td>MIL</td>\n",
       "      <td>...</td>\n",
       "      <td>28.0</td>\n",
       "      <td>0.0</td>\n",
       "      <td>0.0</td>\n",
       "      <td>3.0</td>\n",
       "      <td>0.0</td>\n",
       "      <td>0.0</td>\n",
       "      <td>0.115</td>\n",
       "      <td>0.164</td>\n",
       "      <td>0.115</td>\n",
       "      <td>0.279</td>\n",
       "    </tr>\n",
       "  </tbody>\n",
       "</table>\n",
       "<p>65 rows × 32 columns</p>\n",
       "</div>"
      ],
      "text/plain": [
       "      playerID  yearID  gameNum        gameID teamID_x lgID_x  GP  \\\n",
       "797  ohtansh01    2021        0  NLS202107130      LAA     AL   1   \n",
       "798  ohtansh01    2021        0  NLS202107130      LAA     AL   1   \n",
       "799  perezsa02    2021        0  NLS202107130      KCA     AL   1   \n",
       "800  guerrvl02    2021        0  NLS202107130      TOR     AL   1   \n",
       "801  semiema01    2021        0  NLS202107130      TOR     AL   1   \n",
       "..         ...     ...      ...           ...      ...    ...  ..   \n",
       "883  turneju01    2021        0  NLS202107130      LAN     NL   1   \n",
       "884  turnetr01    2021        0  NLS202107130      WAS     NL   1   \n",
       "885  turnetr01    2021        0  NLS202107130      WAS     NL   1   \n",
       "887  wheelza01    2021        0  NLS202107130      PHI     NL   0   \n",
       "888  woodrbr01    2021        0  NLS202107130      MIL     NL   0   \n",
       "\n",
       "     startingPos  stint teamID_y  ...     SO   IBB   HBP   SH   SF  GIDP  \\\n",
       "797          1.0      1      LAA  ...  189.0  20.0   4.0  0.0  2.0   7.0   \n",
       "798         10.0      1      LAA  ...  189.0  20.0   4.0  0.0  2.0   7.0   \n",
       "799          2.0      1      KCA  ...  170.0   4.0  13.0  0.0  4.0  14.0   \n",
       "800          3.0      1      TOR  ...  110.0   7.0   6.0  0.0  2.0  20.0   \n",
       "801          4.0      1      TOR  ...  146.0   0.0   3.0  0.0  3.0   9.0   \n",
       "..           ...    ...      ...  ...    ...   ...   ...  ...  ...   ...   \n",
       "883          NaN      1      LAN  ...   98.0   0.0  12.0  0.0  6.0  12.0   \n",
       "884          NaN      1      WAS  ...   77.0   0.0   4.0  0.0  2.0  13.0   \n",
       "885          NaN      2      LAN  ...   33.0   2.0   2.0  0.0  2.0   5.0   \n",
       "887          NaN      1      PHI  ...   39.0   0.0   0.0  5.0  0.0   1.0   \n",
       "888          NaN      1      MIL  ...   28.0   0.0   0.0  3.0  0.0   0.0   \n",
       "\n",
       "        BA    OBP    SLG    OPS  \n",
       "797  0.257  0.372  0.592  0.964  \n",
       "798  0.257  0.372  0.592  0.964  \n",
       "799  0.273  0.316  0.544  0.860  \n",
       "800  0.311  0.401  0.601  1.002  \n",
       "801  0.265  0.334  0.538  0.872  \n",
       "..     ...    ...    ...    ...  \n",
       "883  0.278  0.361  0.471  0.832  \n",
       "884  0.322  0.369  0.521  0.890  \n",
       "885  0.338  0.385  0.565  0.950  \n",
       "887  0.162  0.162  0.191  0.353  \n",
       "888  0.115  0.164  0.115  0.279  \n",
       "\n",
       "[65 rows x 32 columns]"
      ]
     },
     "execution_count": 19,
     "metadata": {},
     "output_type": "execute_result"
    }
   ],
   "source": [
    "df_AS_bat_21"
   ]
  },
  {
   "cell_type": "code",
   "execution_count": null,
   "metadata": {},
   "outputs": [],
   "source": []
  },
  {
   "cell_type": "code",
   "execution_count": null,
   "metadata": {},
   "outputs": [],
   "source": []
  },
  {
   "cell_type": "code",
   "execution_count": null,
   "metadata": {},
   "outputs": [],
   "source": []
  },
  {
   "cell_type": "code",
   "execution_count": null,
   "metadata": {},
   "outputs": [],
   "source": []
  },
  {
   "cell_type": "code",
   "execution_count": null,
   "metadata": {},
   "outputs": [],
   "source": []
  },
  {
   "cell_type": "code",
   "execution_count": null,
   "metadata": {},
   "outputs": [],
   "source": []
  },
  {
   "cell_type": "code",
   "execution_count": null,
   "metadata": {},
   "outputs": [],
   "source": []
  }
 ],
 "metadata": {
  "kernelspec": {
   "display_name": "Python 3",
   "language": "python",
   "name": "python3"
  },
  "language_info": {
   "codemirror_mode": {
    "name": "ipython",
    "version": 3
   },
   "file_extension": ".py",
   "mimetype": "text/x-python",
   "name": "python",
   "nbconvert_exporter": "python",
   "pygments_lexer": "ipython3",
   "version": "3.8.3"
  }
 },
 "nbformat": 4,
 "nbformat_minor": 4
}
