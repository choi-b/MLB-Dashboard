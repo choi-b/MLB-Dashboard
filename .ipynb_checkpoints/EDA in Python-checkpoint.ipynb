{
 "cells": [
  {
   "cell_type": "markdown",
   "metadata": {},
   "source": [
    "# Simple EDA with Python"
   ]
  },
  {
   "cell_type": "code",
   "execution_count": 1,
   "metadata": {},
   "outputs": [],
   "source": [
    "import pandas as pd\n",
    "import matplotlib.pyplot as plt\n",
    "import numpy as np\n",
    "import seaborn as sns\n",
    "pd.options.mode.chained_assignment = None "
   ]
  },
  {
   "cell_type": "code",
   "execution_count": 2,
   "metadata": {},
   "outputs": [],
   "source": [
    "#Import Data\n",
    "df_as = pd.read_csv(\"Data/2021/core/AllstarFull.csv\") #All Stars\n",
    "df_bat = pd.read_csv(\"Data/2021/core/Batting.csv\") #batting (reg season)\n",
    "df_postbat = pd.read_csv(\"Data/2021/core/BattingPost.csv\") #batting (postseason)\n",
    "df_field = pd.read_csv(\"Data/2021/core/Fielding.csv\") #fielding\n",
    "df_pitch = pd.read_csv(\"Data/2021/core/Pitching.csv\") #pitching\n",
    "df_postpitch = pd.read_csv(\"Data/2021/core/PitchingPost.csv\") #Postseason Pitching\n",
    "df_sal = pd.read_csv(\"Data/2021/contrib/Salaries.csv\") #salaries\n",
    "df_people = pd.read_csv(\"Data/2021/core/People.csv\") #player names"
   ]
  },
  {
   "cell_type": "code",
   "execution_count": 3,
   "metadata": {},
   "outputs": [
    {
     "data": {
      "text/plain": [
       "count    5454.000000\n",
       "mean     1979.249908\n",
       "std        25.202333\n",
       "min      1933.000000\n",
       "25%      1959.000000\n",
       "50%      1979.000000\n",
       "75%      2002.000000\n",
       "max      2021.000000\n",
       "Name: yearID, dtype: float64"
      ]
     },
     "execution_count": 3,
     "metadata": {},
     "output_type": "execute_result"
    }
   ],
   "source": [
    "df_as['yearID'].describe() #2021 data added."
   ]
  },
  {
   "cell_type": "code",
   "execution_count": 4,
   "metadata": {},
   "outputs": [
    {
     "name": "stdout",
     "output_type": "stream",
     "text": [
      "(5454, 8)\n",
      "(110495, 22)\n",
      "(15879, 22)\n",
      "(147080, 18)\n",
      "(49430, 30)\n",
      "(6308, 30)\n",
      "(26428, 5)\n",
      "(20370, 24)\n"
     ]
    }
   ],
   "source": [
    "#Check out Dimensions of the dataframes.\n",
    "dfs = [df_as, df_bat, df_postbat, df_field, df_pitch, df_postpitch, df_sal, df_people]\n",
    "\n",
    "for df in dfs:\n",
    "    print(df.shape)\n",
    "    \n",
    "#biggest one: df_bat & df_field"
   ]
  },
  {
   "cell_type": "code",
   "execution_count": 5,
   "metadata": {},
   "outputs": [
    {
     "name": "stdout",
     "output_type": "stream",
     "text": [
      "Index(['playerID', 'yearID', 'stint', 'teamID', 'lgID', 'G', 'AB', 'R', 'H',\n",
      "       '2B', '3B', 'HR', 'RBI', 'SB', 'CS', 'BB', 'SO', 'IBB', 'HBP', 'SH',\n",
      "       'SF', 'GIDP'],\n",
      "      dtype='object')\n",
      "Index(['playerID', 'yearID', 'stint', 'teamID', 'lgID', 'POS', 'G', 'GS',\n",
      "       'InnOuts', 'PO', 'A', 'E', 'DP', 'PB', 'WP', 'SB', 'CS', 'ZR'],\n",
      "      dtype='object')\n",
      "Index(['yearID', 'teamID', 'lgID', 'playerID', 'salary'], dtype='object')\n"
     ]
    }
   ],
   "source": [
    "#Look at some sample columns\n",
    "for df in [df_bat, df_field, df_sal]:\n",
    "    print (df.columns)"
   ]
  },
  {
   "cell_type": "code",
   "execution_count": 6,
   "metadata": {},
   "outputs": [],
   "source": [
    "# To look at only the last decade of data\n",
    "# create a function to filter for the last decade of data (max year is 2020)\n",
    "def decadeonly(mydf):\n",
    "    mydf = mydf[mydf['yearID']>=2010]\n",
    "    return mydf"
   ]
  },
  {
   "cell_type": "markdown",
   "metadata": {},
   "source": [
    "### Functions to Calculate Additional Stats"
   ]
  },
  {
   "cell_type": "markdown",
   "metadata": {},
   "source": [
    "#### BA (Batting Average)"
   ]
  },
  {
   "cell_type": "code",
   "execution_count": 7,
   "metadata": {},
   "outputs": [],
   "source": [
    "def batting_average(df):\n",
    "    H = df['H']\n",
    "    AB = df['AB']\n",
    "    BA = H/AB\n",
    "    return round(BA,3) #retain 3 decimal places\n"
   ]
  },
  {
   "cell_type": "markdown",
   "metadata": {},
   "source": [
    "#### OBP (On Base Percentage)"
   ]
  },
  {
   "cell_type": "code",
   "execution_count": 8,
   "metadata": {},
   "outputs": [],
   "source": [
    "#OBP = (Hits + Walks + Hit by Pitch) / (At Bats + Walks + Hit by Pitch + Sacrifice Flies).\n",
    "def obp(df):\n",
    "    H = df['H']\n",
    "    W = df['BB']\n",
    "    HBP = df['HBP']\n",
    "    AB = df['AB']\n",
    "    SF = df['SF']\n",
    "    OBP = (H+W+HBP)/(AB+W+HBP+SF)\n",
    "    return round(OBP,3)"
   ]
  },
  {
   "cell_type": "markdown",
   "metadata": {},
   "source": [
    "#### SLG (Slugging)"
   ]
  },
  {
   "cell_type": "code",
   "execution_count": 9,
   "metadata": {},
   "outputs": [],
   "source": [
    "#SLG = Total Bases ÷ At Bats\n",
    "#Total Bases = Singles + (2 x Doubles) + (3 x Triples) + (4 x Home Runs)\n",
    "#Total Bases (alternate method) = Hits + Doubles + (2 x Triples) + (3 x Home Runs)[1]\n",
    "def slg(df):\n",
    "    total_bases = df['H'] + df['2B'] + 2*df['3B'] + 3*df['HR']\n",
    "    AB = df['AB']\n",
    "    SLG = total_bases/AB\n",
    "    return round(SLG,3)"
   ]
  },
  {
   "cell_type": "markdown",
   "metadata": {},
   "source": [
    "# Analysis 1: Evaluation of MLB All Stars (since 2010)"
   ]
  },
  {
   "cell_type": "code",
   "execution_count": 10,
   "metadata": {},
   "outputs": [],
   "source": [
    "df_AS = decadeonly(df_as)"
   ]
  },
  {
   "cell_type": "markdown",
   "metadata": {},
   "source": [
    "#### Get the all stars' regular season stats at the END of the season (overall evaluation)"
   ]
  },
  {
   "cell_type": "code",
   "execution_count": 11,
   "metadata": {},
   "outputs": [],
   "source": [
    "df_BAT = decadeonly(df_bat)"
   ]
  },
  {
   "cell_type": "markdown",
   "metadata": {},
   "source": [
    "#### AS Hitters"
   ]
  },
  {
   "cell_type": "code",
   "execution_count": 12,
   "metadata": {},
   "outputs": [],
   "source": [
    "df_AS_bat = df_AS.merge(df_BAT, on=['playerID','yearID'], how='inner') #889 players"
   ]
  },
  {
   "cell_type": "markdown",
   "metadata": {},
   "source": [
    "#### AS Pitchers"
   ]
  },
  {
   "cell_type": "code",
   "execution_count": 13,
   "metadata": {},
   "outputs": [],
   "source": [
    "df_AS_pit = df_AS.merge(df_pitch, on=['playerID','yearID'], how='inner') #370 players"
   ]
  },
  {
   "cell_type": "markdown",
   "metadata": {},
   "source": [
    "### Calculate Additional Metrics"
   ]
  },
  {
   "cell_type": "code",
   "execution_count": 14,
   "metadata": {},
   "outputs": [],
   "source": [
    "#Batting Average\n",
    "df_AS_bat['BA'] = batting_average(df_AS_bat)"
   ]
  },
  {
   "cell_type": "code",
   "execution_count": 15,
   "metadata": {},
   "outputs": [],
   "source": [
    "#OBP\n",
    "df_AS_bat['OBP'] = obp(df_AS_bat)"
   ]
  },
  {
   "cell_type": "code",
   "execution_count": 16,
   "metadata": {},
   "outputs": [],
   "source": [
    "#SLG\n",
    "df_AS_bat['SLG'] = slg(df_AS_bat)"
   ]
  },
  {
   "cell_type": "code",
   "execution_count": 17,
   "metadata": {},
   "outputs": [],
   "source": [
    "#OPS = OBP + SLG\n",
    "df_AS_bat['OPS'] = df_AS_bat['OBP'] + df_AS_bat['SLG']"
   ]
  },
  {
   "cell_type": "code",
   "execution_count": 29,
   "metadata": {},
   "outputs": [],
   "source": [
    "#Calculate for the entire batting dataset (df_bat) as well\n",
    "df_bat['BA'] = batting_average(df_bat)\n",
    "df_bat['OBP'] = obp(df_bat)\n",
    "df_bat['SLG'] = slg(df_bat)\n",
    "df_bat['OPS'] = df_bat['OBP'] + df_bat['SLG']"
   ]
  },
  {
   "cell_type": "markdown",
   "metadata": {},
   "source": [
    "#### 1a) AS Hitters' Stats (50 AB minimum & in 2021) - exclude pitchers"
   ]
  },
  {
   "cell_type": "code",
   "execution_count": 33,
   "metadata": {},
   "outputs": [],
   "source": [
    "#only look at players (excluding pitchers) with < 50 AB (estimate) & in most recent year\n",
    "df_AS_bat_21 = df_AS_bat[(df_AS_bat['AB']>50) & (df_AS_bat['yearID']==2021) & (df_AS_bat['startingPos']!=1)] "
   ]
  },
  {
   "cell_type": "code",
   "execution_count": 25,
   "metadata": {},
   "outputs": [
    {
     "data": {
      "text/plain": [
       "Index(['playerID', 'yearID', 'gameNum', 'gameID', 'teamID_x', 'lgID_x', 'GP',\n",
       "       'startingPos', 'stint', 'teamID_y', 'lgID_y', 'G', 'AB', 'R', 'H', '2B',\n",
       "       '3B', 'HR', 'RBI', 'SB', 'CS', 'BB', 'SO', 'IBB', 'HBP', 'SH', 'SF',\n",
       "       'GIDP', 'BA', 'OBP', 'SLG', 'OPS'],\n",
       "      dtype='object')"
      ]
     },
     "execution_count": 25,
     "metadata": {},
     "output_type": "execute_result"
    }
   ],
   "source": [
    "df_AS_bat_21.columns"
   ]
  },
  {
   "cell_type": "code",
   "execution_count": 34,
   "metadata": {},
   "outputs": [
    {
     "data": {
      "text/html": [
       "<div>\n",
       "<style scoped>\n",
       "    .dataframe tbody tr th:only-of-type {\n",
       "        vertical-align: middle;\n",
       "    }\n",
       "\n",
       "    .dataframe tbody tr th {\n",
       "        vertical-align: top;\n",
       "    }\n",
       "\n",
       "    .dataframe thead th {\n",
       "        text-align: right;\n",
       "    }\n",
       "</style>\n",
       "<table border=\"1\" class=\"dataframe\">\n",
       "  <thead>\n",
       "    <tr style=\"text-align: right;\">\n",
       "      <th></th>\n",
       "      <th>G</th>\n",
       "      <th>AB</th>\n",
       "      <th>R</th>\n",
       "      <th>H</th>\n",
       "      <th>2B</th>\n",
       "      <th>3B</th>\n",
       "      <th>HR</th>\n",
       "      <th>RBI</th>\n",
       "      <th>BB</th>\n",
       "      <th>SO</th>\n",
       "      <th>HBP</th>\n",
       "      <th>BA</th>\n",
       "      <th>OBP</th>\n",
       "      <th>SLG</th>\n",
       "      <th>OPS</th>\n",
       "    </tr>\n",
       "  </thead>\n",
       "  <tbody>\n",
       "    <tr>\n",
       "      <th>count</th>\n",
       "      <td>64.000000</td>\n",
       "      <td>64.000000</td>\n",
       "      <td>64.000000</td>\n",
       "      <td>64.000000</td>\n",
       "      <td>64.000000</td>\n",
       "      <td>64.000000</td>\n",
       "      <td>64.000000</td>\n",
       "      <td>64.000000</td>\n",
       "      <td>64.000000</td>\n",
       "      <td>64.000000</td>\n",
       "      <td>64.000000</td>\n",
       "      <td>64.000000</td>\n",
       "      <td>64.000000</td>\n",
       "      <td>64.000000</td>\n",
       "      <td>64.000000</td>\n",
       "    </tr>\n",
       "    <tr>\n",
       "      <th>mean</th>\n",
       "      <td>113.156250</td>\n",
       "      <td>412.109375</td>\n",
       "      <td>69.312500</td>\n",
       "      <td>113.921875</td>\n",
       "      <td>22.546875</td>\n",
       "      <td>1.781250</td>\n",
       "      <td>21.593750</td>\n",
       "      <td>64.968750</td>\n",
       "      <td>45.203125</td>\n",
       "      <td>95.906250</td>\n",
       "      <td>4.796875</td>\n",
       "      <td>0.263422</td>\n",
       "      <td>0.336563</td>\n",
       "      <td>0.466219</td>\n",
       "      <td>0.802781</td>\n",
       "    </tr>\n",
       "    <tr>\n",
       "      <th>std</th>\n",
       "      <td>45.892289</td>\n",
       "      <td>188.310797</td>\n",
       "      <td>35.026011</td>\n",
       "      <td>55.852500</td>\n",
       "      <td>11.969445</td>\n",
       "      <td>2.042942</td>\n",
       "      <td>13.440898</td>\n",
       "      <td>35.282069</td>\n",
       "      <td>27.629165</td>\n",
       "      <td>43.911064</td>\n",
       "      <td>3.451154</td>\n",
       "      <td>0.051663</td>\n",
       "      <td>0.066681</td>\n",
       "      <td>0.117670</td>\n",
       "      <td>0.178585</td>\n",
       "    </tr>\n",
       "    <tr>\n",
       "      <th>min</th>\n",
       "      <td>28.000000</td>\n",
       "      <td>52.000000</td>\n",
       "      <td>0.000000</td>\n",
       "      <td>5.000000</td>\n",
       "      <td>0.000000</td>\n",
       "      <td>0.000000</td>\n",
       "      <td>0.000000</td>\n",
       "      <td>1.000000</td>\n",
       "      <td>0.000000</td>\n",
       "      <td>13.000000</td>\n",
       "      <td>0.000000</td>\n",
       "      <td>0.094000</td>\n",
       "      <td>0.111000</td>\n",
       "      <td>0.115000</td>\n",
       "      <td>0.243000</td>\n",
       "    </tr>\n",
       "    <tr>\n",
       "      <th>25%</th>\n",
       "      <td>79.500000</td>\n",
       "      <td>288.250000</td>\n",
       "      <td>43.500000</td>\n",
       "      <td>69.750000</td>\n",
       "      <td>12.750000</td>\n",
       "      <td>0.000000</td>\n",
       "      <td>10.750000</td>\n",
       "      <td>44.250000</td>\n",
       "      <td>27.750000</td>\n",
       "      <td>63.000000</td>\n",
       "      <td>2.000000</td>\n",
       "      <td>0.254750</td>\n",
       "      <td>0.316750</td>\n",
       "      <td>0.441250</td>\n",
       "      <td>0.781000</td>\n",
       "    </tr>\n",
       "    <tr>\n",
       "      <th>50%</th>\n",
       "      <td>132.000000</td>\n",
       "      <td>477.000000</td>\n",
       "      <td>77.000000</td>\n",
       "      <td>129.000000</td>\n",
       "      <td>25.000000</td>\n",
       "      <td>1.000000</td>\n",
       "      <td>23.500000</td>\n",
       "      <td>68.500000</td>\n",
       "      <td>41.000000</td>\n",
       "      <td>94.500000</td>\n",
       "      <td>4.000000</td>\n",
       "      <td>0.272000</td>\n",
       "      <td>0.348000</td>\n",
       "      <td>0.491500</td>\n",
       "      <td>0.852500</td>\n",
       "    </tr>\n",
       "    <tr>\n",
       "      <th>75%</th>\n",
       "      <td>151.250000</td>\n",
       "      <td>560.250000</td>\n",
       "      <td>94.250000</td>\n",
       "      <td>157.250000</td>\n",
       "      <td>32.000000</td>\n",
       "      <td>3.000000</td>\n",
       "      <td>31.000000</td>\n",
       "      <td>97.250000</td>\n",
       "      <td>62.250000</td>\n",
       "      <td>125.000000</td>\n",
       "      <td>7.000000</td>\n",
       "      <td>0.295250</td>\n",
       "      <td>0.370250</td>\n",
       "      <td>0.537250</td>\n",
       "      <td>0.895250</td>\n",
       "    </tr>\n",
       "    <tr>\n",
       "      <th>max</th>\n",
       "      <td>162.000000</td>\n",
       "      <td>664.000000</td>\n",
       "      <td>123.000000</td>\n",
       "      <td>191.000000</td>\n",
       "      <td>42.000000</td>\n",
       "      <td>8.000000</td>\n",
       "      <td>48.000000</td>\n",
       "      <td>121.000000</td>\n",
       "      <td>145.000000</td>\n",
       "      <td>194.000000</td>\n",
       "      <td>13.000000</td>\n",
       "      <td>0.338000</td>\n",
       "      <td>0.466000</td>\n",
       "      <td>0.624000</td>\n",
       "      <td>1.090000</td>\n",
       "    </tr>\n",
       "  </tbody>\n",
       "</table>\n",
       "</div>"
      ],
      "text/plain": [
       "                G          AB           R           H         2B         3B  \\\n",
       "count   64.000000   64.000000   64.000000   64.000000  64.000000  64.000000   \n",
       "mean   113.156250  412.109375   69.312500  113.921875  22.546875   1.781250   \n",
       "std     45.892289  188.310797   35.026011   55.852500  11.969445   2.042942   \n",
       "min     28.000000   52.000000    0.000000    5.000000   0.000000   0.000000   \n",
       "25%     79.500000  288.250000   43.500000   69.750000  12.750000   0.000000   \n",
       "50%    132.000000  477.000000   77.000000  129.000000  25.000000   1.000000   \n",
       "75%    151.250000  560.250000   94.250000  157.250000  32.000000   3.000000   \n",
       "max    162.000000  664.000000  123.000000  191.000000  42.000000   8.000000   \n",
       "\n",
       "              HR         RBI          BB          SO        HBP         BA  \\\n",
       "count  64.000000   64.000000   64.000000   64.000000  64.000000  64.000000   \n",
       "mean   21.593750   64.968750   45.203125   95.906250   4.796875   0.263422   \n",
       "std    13.440898   35.282069   27.629165   43.911064   3.451154   0.051663   \n",
       "min     0.000000    1.000000    0.000000   13.000000   0.000000   0.094000   \n",
       "25%    10.750000   44.250000   27.750000   63.000000   2.000000   0.254750   \n",
       "50%    23.500000   68.500000   41.000000   94.500000   4.000000   0.272000   \n",
       "75%    31.000000   97.250000   62.250000  125.000000   7.000000   0.295250   \n",
       "max    48.000000  121.000000  145.000000  194.000000  13.000000   0.338000   \n",
       "\n",
       "             OBP        SLG        OPS  \n",
       "count  64.000000  64.000000  64.000000  \n",
       "mean    0.336563   0.466219   0.802781  \n",
       "std     0.066681   0.117670   0.178585  \n",
       "min     0.111000   0.115000   0.243000  \n",
       "25%     0.316750   0.441250   0.781000  \n",
       "50%     0.348000   0.491500   0.852500  \n",
       "75%     0.370250   0.537250   0.895250  \n",
       "max     0.466000   0.624000   1.090000  "
      ]
     },
     "execution_count": 34,
     "metadata": {},
     "output_type": "execute_result"
    }
   ],
   "source": [
    "#Summary of some common stats\n",
    "df_AS_bat_21[['G','AB','R','H','2B','3B','HR','RBI','BB','SO','HBP','BA','OBP','SLG','OPS']].describe()\n",
    "#Average: 20+ HR , 110+ H, <100 SO"
   ]
  },
  {
   "cell_type": "code",
   "execution_count": 52,
   "metadata": {},
   "outputs": [
    {
     "data": {
      "text/html": [
       "<div>\n",
       "<style scoped>\n",
       "    .dataframe tbody tr th:only-of-type {\n",
       "        vertical-align: middle;\n",
       "    }\n",
       "\n",
       "    .dataframe tbody tr th {\n",
       "        vertical-align: top;\n",
       "    }\n",
       "\n",
       "    .dataframe thead th {\n",
       "        text-align: right;\n",
       "    }\n",
       "</style>\n",
       "<table border=\"1\" class=\"dataframe\">\n",
       "  <thead>\n",
       "    <tr style=\"text-align: right;\">\n",
       "      <th></th>\n",
       "      <th>G</th>\n",
       "      <th>AB</th>\n",
       "      <th>R</th>\n",
       "      <th>H</th>\n",
       "      <th>2B</th>\n",
       "      <th>3B</th>\n",
       "      <th>HR</th>\n",
       "      <th>RBI</th>\n",
       "      <th>BB</th>\n",
       "      <th>SO</th>\n",
       "      <th>HBP</th>\n",
       "      <th>BA</th>\n",
       "      <th>OBP</th>\n",
       "      <th>SLG</th>\n",
       "      <th>OPS</th>\n",
       "    </tr>\n",
       "  </thead>\n",
       "  <tbody>\n",
       "    <tr>\n",
       "      <th>count</th>\n",
       "      <td>469.000000</td>\n",
       "      <td>469.000000</td>\n",
       "      <td>469.000000</td>\n",
       "      <td>469.000000</td>\n",
       "      <td>469.000000</td>\n",
       "      <td>469.000000</td>\n",
       "      <td>469.000000</td>\n",
       "      <td>469.000000</td>\n",
       "      <td>469.000000</td>\n",
       "      <td>469.000000</td>\n",
       "      <td>469.000000</td>\n",
       "      <td>469.000000</td>\n",
       "      <td>469.000000</td>\n",
       "      <td>469.000000</td>\n",
       "      <td>469.000000</td>\n",
       "    </tr>\n",
       "    <tr>\n",
       "      <th>mean</th>\n",
       "      <td>96.872068</td>\n",
       "      <td>315.379531</td>\n",
       "      <td>44.078891</td>\n",
       "      <td>79.168443</td>\n",
       "      <td>15.782516</td>\n",
       "      <td>1.341151</td>\n",
       "      <td>12.132196</td>\n",
       "      <td>42.473348</td>\n",
       "      <td>31.430704</td>\n",
       "      <td>78.571429</td>\n",
       "      <td>4.117271</td>\n",
       "      <td>0.243768</td>\n",
       "      <td>0.316580</td>\n",
       "      <td>0.409367</td>\n",
       "      <td>0.725947</td>\n",
       "    </tr>\n",
       "    <tr>\n",
       "      <th>std</th>\n",
       "      <td>37.715657</td>\n",
       "      <td>151.044472</td>\n",
       "      <td>26.436429</td>\n",
       "      <td>43.628915</td>\n",
       "      <td>9.544522</td>\n",
       "      <td>1.541045</td>\n",
       "      <td>9.818851</td>\n",
       "      <td>26.491610</td>\n",
       "      <td>20.534055</td>\n",
       "      <td>38.829753</td>\n",
       "      <td>3.968506</td>\n",
       "      <td>0.036486</td>\n",
       "      <td>0.040502</td>\n",
       "      <td>0.077260</td>\n",
       "      <td>0.108230</td>\n",
       "    </tr>\n",
       "    <tr>\n",
       "      <th>min</th>\n",
       "      <td>32.000000</td>\n",
       "      <td>100.000000</td>\n",
       "      <td>6.000000</td>\n",
       "      <td>16.000000</td>\n",
       "      <td>0.000000</td>\n",
       "      <td>0.000000</td>\n",
       "      <td>0.000000</td>\n",
       "      <td>5.000000</td>\n",
       "      <td>3.000000</td>\n",
       "      <td>12.000000</td>\n",
       "      <td>0.000000</td>\n",
       "      <td>0.141000</td>\n",
       "      <td>0.207000</td>\n",
       "      <td>0.208000</td>\n",
       "      <td>0.424000</td>\n",
       "    </tr>\n",
       "    <tr>\n",
       "      <th>25%</th>\n",
       "      <td>64.000000</td>\n",
       "      <td>188.000000</td>\n",
       "      <td>22.000000</td>\n",
       "      <td>43.000000</td>\n",
       "      <td>8.000000</td>\n",
       "      <td>0.000000</td>\n",
       "      <td>5.000000</td>\n",
       "      <td>21.000000</td>\n",
       "      <td>16.000000</td>\n",
       "      <td>47.000000</td>\n",
       "      <td>1.000000</td>\n",
       "      <td>0.220000</td>\n",
       "      <td>0.291000</td>\n",
       "      <td>0.356000</td>\n",
       "      <td>0.654000</td>\n",
       "    </tr>\n",
       "    <tr>\n",
       "      <th>50%</th>\n",
       "      <td>95.000000</td>\n",
       "      <td>284.000000</td>\n",
       "      <td>37.000000</td>\n",
       "      <td>69.000000</td>\n",
       "      <td>13.000000</td>\n",
       "      <td>1.000000</td>\n",
       "      <td>9.000000</td>\n",
       "      <td>36.000000</td>\n",
       "      <td>27.000000</td>\n",
       "      <td>72.000000</td>\n",
       "      <td>3.000000</td>\n",
       "      <td>0.247000</td>\n",
       "      <td>0.317000</td>\n",
       "      <td>0.404000</td>\n",
       "      <td>0.723000</td>\n",
       "    </tr>\n",
       "    <tr>\n",
       "      <th>75%</th>\n",
       "      <td>131.000000</td>\n",
       "      <td>450.000000</td>\n",
       "      <td>61.000000</td>\n",
       "      <td>112.000000</td>\n",
       "      <td>23.000000</td>\n",
       "      <td>2.000000</td>\n",
       "      <td>17.000000</td>\n",
       "      <td>57.000000</td>\n",
       "      <td>43.000000</td>\n",
       "      <td>104.000000</td>\n",
       "      <td>6.000000</td>\n",
       "      <td>0.268000</td>\n",
       "      <td>0.344000</td>\n",
       "      <td>0.458000</td>\n",
       "      <td>0.788000</td>\n",
       "    </tr>\n",
       "    <tr>\n",
       "      <th>max</th>\n",
       "      <td>162.000000</td>\n",
       "      <td>664.000000</td>\n",
       "      <td>123.000000</td>\n",
       "      <td>191.000000</td>\n",
       "      <td>42.000000</td>\n",
       "      <td>8.000000</td>\n",
       "      <td>48.000000</td>\n",
       "      <td>121.000000</td>\n",
       "      <td>145.000000</td>\n",
       "      <td>202.000000</td>\n",
       "      <td>27.000000</td>\n",
       "      <td>0.342000</td>\n",
       "      <td>0.466000</td>\n",
       "      <td>0.647000</td>\n",
       "      <td>1.090000</td>\n",
       "    </tr>\n",
       "  </tbody>\n",
       "</table>\n",
       "</div>"
      ],
      "text/plain": [
       "                G          AB           R           H          2B          3B  \\\n",
       "count  469.000000  469.000000  469.000000  469.000000  469.000000  469.000000   \n",
       "mean    96.872068  315.379531   44.078891   79.168443   15.782516    1.341151   \n",
       "std     37.715657  151.044472   26.436429   43.628915    9.544522    1.541045   \n",
       "min     32.000000  100.000000    6.000000   16.000000    0.000000    0.000000   \n",
       "25%     64.000000  188.000000   22.000000   43.000000    8.000000    0.000000   \n",
       "50%     95.000000  284.000000   37.000000   69.000000   13.000000    1.000000   \n",
       "75%    131.000000  450.000000   61.000000  112.000000   23.000000    2.000000   \n",
       "max    162.000000  664.000000  123.000000  191.000000   42.000000    8.000000   \n",
       "\n",
       "               HR         RBI          BB          SO         HBP          BA  \\\n",
       "count  469.000000  469.000000  469.000000  469.000000  469.000000  469.000000   \n",
       "mean    12.132196   42.473348   31.430704   78.571429    4.117271    0.243768   \n",
       "std      9.818851   26.491610   20.534055   38.829753    3.968506    0.036486   \n",
       "min      0.000000    5.000000    3.000000   12.000000    0.000000    0.141000   \n",
       "25%      5.000000   21.000000   16.000000   47.000000    1.000000    0.220000   \n",
       "50%      9.000000   36.000000   27.000000   72.000000    3.000000    0.247000   \n",
       "75%     17.000000   57.000000   43.000000  104.000000    6.000000    0.268000   \n",
       "max     48.000000  121.000000  145.000000  202.000000   27.000000    0.342000   \n",
       "\n",
       "              OBP         SLG         OPS  \n",
       "count  469.000000  469.000000  469.000000  \n",
       "mean     0.316580    0.409367    0.725947  \n",
       "std      0.040502    0.077260    0.108230  \n",
       "min      0.207000    0.208000    0.424000  \n",
       "25%      0.291000    0.356000    0.654000  \n",
       "50%      0.317000    0.404000    0.723000  \n",
       "75%      0.344000    0.458000    0.788000  \n",
       "max      0.466000    0.647000    1.090000  "
      ]
     },
     "execution_count": 52,
     "metadata": {},
     "output_type": "execute_result"
    }
   ],
   "source": [
    "#compare it against the entire league averages (Year 2021 & 100 AB minimum)\n",
    "df_bat[(df_bat['AB']>=100) & (df_bat['yearID']==2021)][['G','AB','R','H','2B','3B','HR','RBI','BB','SO','HBP','BA','OBP','SLG','OPS']].describe()\n",
    "#Average: 12HR, lower BA, H, etc. "
   ]
  },
  {
   "cell_type": "markdown",
   "metadata": {},
   "source": [
    "#### 1b) AS Pitchers' Stats (in 2021)"
   ]
  },
  {
   "cell_type": "code",
   "execution_count": null,
   "metadata": {},
   "outputs": [],
   "source": []
  },
  {
   "cell_type": "code",
   "execution_count": null,
   "metadata": {},
   "outputs": [],
   "source": []
  },
  {
   "cell_type": "code",
   "execution_count": null,
   "metadata": {},
   "outputs": [],
   "source": []
  },
  {
   "cell_type": "code",
   "execution_count": null,
   "metadata": {},
   "outputs": [],
   "source": []
  },
  {
   "cell_type": "markdown",
   "metadata": {},
   "source": [
    "### The Great Ones since 2010: Top 10 Repeat All Stars"
   ]
  },
  {
   "cell_type": "code",
   "execution_count": 20,
   "metadata": {},
   "outputs": [
    {
     "data": {
      "text/html": [
       "<div>\n",
       "<style scoped>\n",
       "    .dataframe tbody tr th:only-of-type {\n",
       "        vertical-align: middle;\n",
       "    }\n",
       "\n",
       "    .dataframe tbody tr th {\n",
       "        vertical-align: top;\n",
       "    }\n",
       "\n",
       "    .dataframe thead th {\n",
       "        text-align: right;\n",
       "    }\n",
       "</style>\n",
       "<table border=\"1\" class=\"dataframe\">\n",
       "  <thead>\n",
       "    <tr style=\"text-align: right;\">\n",
       "      <th></th>\n",
       "      <th>playerID</th>\n",
       "      <th>nameFirst</th>\n",
       "      <th>nameLast</th>\n",
       "      <th>count</th>\n",
       "    </tr>\n",
       "  </thead>\n",
       "  <tbody>\n",
       "    <tr>\n",
       "      <th>265</th>\n",
       "      <td>molinya01</td>\n",
       "      <td>Yadier</td>\n",
       "      <td>Molina</td>\n",
       "      <td>9</td>\n",
       "    </tr>\n",
       "    <tr>\n",
       "      <th>401</th>\n",
       "      <td>troutmi01</td>\n",
       "      <td>Mike</td>\n",
       "      <td>Trout</td>\n",
       "      <td>9</td>\n",
       "    </tr>\n",
       "    <tr>\n",
       "      <th>362</th>\n",
       "      <td>scherma01</td>\n",
       "      <td>Max</td>\n",
       "      <td>Scherzer</td>\n",
       "      <td>8</td>\n",
       "    </tr>\n",
       "    <tr>\n",
       "      <th>212</th>\n",
       "      <td>kershcl01</td>\n",
       "      <td>Clayton</td>\n",
       "      <td>Kershaw</td>\n",
       "      <td>8</td>\n",
       "    </tr>\n",
       "    <tr>\n",
       "      <th>215</th>\n",
       "      <td>kimbrcr01</td>\n",
       "      <td>Craig</td>\n",
       "      <td>Kimbrel</td>\n",
       "      <td>8</td>\n",
       "    </tr>\n",
       "    <tr>\n",
       "      <th>7</th>\n",
       "      <td>altuvjo01</td>\n",
       "      <td>Jose</td>\n",
       "      <td>Altuve</td>\n",
       "      <td>7</td>\n",
       "    </tr>\n",
       "    <tr>\n",
       "      <th>351</th>\n",
       "      <td>salech01</td>\n",
       "      <td>Chris</td>\n",
       "      <td>Sale</td>\n",
       "      <td>7</td>\n",
       "    </tr>\n",
       "    <tr>\n",
       "      <th>310</th>\n",
       "      <td>poseybu01</td>\n",
       "      <td>Buster</td>\n",
       "      <td>Posey</td>\n",
       "      <td>7</td>\n",
       "    </tr>\n",
       "    <tr>\n",
       "      <th>63</th>\n",
       "      <td>cabremi01</td>\n",
       "      <td>Miguel</td>\n",
       "      <td>Cabrera</td>\n",
       "      <td>7</td>\n",
       "    </tr>\n",
       "    <tr>\n",
       "      <th>301</th>\n",
       "      <td>perezsa02</td>\n",
       "      <td>Salvador</td>\n",
       "      <td>Perez</td>\n",
       "      <td>7</td>\n",
       "    </tr>\n",
       "  </tbody>\n",
       "</table>\n",
       "</div>"
      ],
      "text/plain": [
       "      playerID nameFirst  nameLast  count\n",
       "265  molinya01    Yadier    Molina      9\n",
       "401  troutmi01      Mike     Trout      9\n",
       "362  scherma01       Max  Scherzer      8\n",
       "212  kershcl01   Clayton   Kershaw      8\n",
       "215  kimbrcr01     Craig   Kimbrel      8\n",
       "7    altuvjo01      Jose    Altuve      7\n",
       "351   salech01     Chris      Sale      7\n",
       "310  poseybu01    Buster     Posey      7\n",
       "63   cabremi01    Miguel   Cabrera      7\n",
       "301  perezsa02  Salvador     Perez      7"
      ]
     },
     "execution_count": 20,
     "metadata": {},
     "output_type": "execute_result"
    }
   ],
   "source": [
    "repeat_allstars = df_AS.merge(df_people[['playerID','nameFirst','nameLast']], on='playerID', how='left').groupby(['playerID','nameFirst','nameLast'])['playerID'].count().reset_index(name='count').sort_values(['count'], ascending=False).head(10)\n",
    "repeat_allstars"
   ]
  },
  {
   "cell_type": "code",
   "execution_count": 21,
   "metadata": {},
   "outputs": [],
   "source": [
    "#concatenate first and last name columns\n",
    "repeat_allstars['playerName'] = repeat_allstars['nameFirst'] + \" \" + repeat_allstars['nameLast']"
   ]
  },
  {
   "cell_type": "code",
   "execution_count": 22,
   "metadata": {},
   "outputs": [
    {
     "data": {
      "text/plain": [
       "[Text(0, 0, 'Yadier Molina'),\n",
       " Text(0, 0, 'Mike Trout'),\n",
       " Text(0, 0, 'Max Scherzer'),\n",
       " Text(0, 0, 'Clayton Kershaw'),\n",
       " Text(0, 0, 'Craig Kimbrel'),\n",
       " Text(0, 0, 'Jose Altuve'),\n",
       " Text(0, 0, 'Chris Sale'),\n",
       " Text(0, 0, 'Buster Posey'),\n",
       " Text(0, 0, 'Miguel Cabrera'),\n",
       " Text(0, 0, 'Salvador Perez')]"
      ]
     },
     "execution_count": 22,
     "metadata": {},
     "output_type": "execute_result"
    },
    {
     "data": {
      "image/png": "[encoded data removed]",
      "text/plain": [
       "<Figure size 1080x595.44 with 1 Axes>"
      ]
     },
     "metadata": {},
     "output_type": "display_data"
    }
   ],
   "source": [
    "sns.set_theme(style='whitegrid')\n",
    "tips = sns.load_dataset(\"tips\")\n",
    "sns.set(rc={'figure.figsize':(15,8.27)})\n",
    "p = sns.barplot(x=\"playerName\", y=\"count\", data=repeat_allstars)\n",
    "p.set_xlabel(\"Player\", fontsize = 20)\n",
    "p.set_ylabel(\"Number of AS Appearances\", fontsize = 15)\n",
    "p.set_title(\"Most AS Appearances since 2010\", fontsize = 15)\n",
    "p.set_xticklabels(p.get_xticklabels(),rotation=30)"
   ]
  },
  {
   "cell_type": "markdown",
   "metadata": {},
   "source": [
    "###"
   ]
  },
  {
   "cell_type": "code",
   "execution_count": null,
   "metadata": {},
   "outputs": [],
   "source": []
  }
 ],
 "metadata": {
  "kernelspec": {
   "display_name": "Python 3",
   "language": "python",
   "name": "python3"
  },
  "language_info": {
   "codemirror_mode": {
    "name": "ipython",
    "version": 3
   },
   "file_extension": ".py",
   "mimetype": "text/x-python",
   "name": "python",
   "nbconvert_exporter": "python",
   "pygments_lexer": "ipython3",
   "version": "3.8.3"
  }
 },
 "nbformat": 4,
 "nbformat_minor": 4
}
